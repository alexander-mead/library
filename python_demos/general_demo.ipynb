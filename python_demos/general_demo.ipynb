{
 "cells": [
  {
   "cell_type": "code",
   "execution_count": 1,
   "metadata": {},
   "outputs": [
    {
     "name": "stdout",
     "output_type": "stream",
     "text": [
      "x: [100 101 102 103 104 105 106 107 108]\n",
      "\n",
      "y: [[100 101 102]\n",
      " [103 104 105]\n",
      " [106 107 108]]\n",
      "\n",
      "Indices: [5, 6]\n",
      "Array values: [105 106]\n",
      "\n",
      "Indices: [[0, 0], [1, 0], [0, 1]]\n",
      "Array values: [100 103 101]\n",
      "\n"
     ]
    }
   ],
   "source": [
    "import sys\n",
    "sys.path.append('/Users/Mead/Physics/library/python')\n",
    "\n",
    "import numpy as np\n",
    "\n",
    "import mead_general as general\n",
    "\n",
    "x = np.arange(100, 109)\n",
    "print('x:', x)\n",
    "print()\n",
    "\n",
    "y = np.arange(100,109).reshape(3,3)\n",
    "print('y:', y)\n",
    "print()\n",
    "\n",
    "indices = [5, 6]\n",
    "xs = general.array_values_at_indices(x, indices)\n",
    "print('Indices:', indices)\n",
    "print('Array values:', xs)\n",
    "print()\n",
    "\n",
    "indices = [[0,0], [1,0], [0,1]]\n",
    "ys = general.array_values_at_indices(y, indices)\n",
    "print('Indices:', indices)\n",
    "print('Array values:', ys)\n",
    "print()"
   ]
  },
  {
   "cell_type": "code",
   "execution_count": 2,
   "metadata": {},
   "outputs": [
    {
     "name": "stdout",
     "output_type": "stream",
     "text": [
      "Numpy version: [1.00000000e-01 2.51188643e-01 6.30957344e-01 1.58489319e+00\n",
      " 3.98107171e+00 1.00000000e+01 2.51188643e+01 6.30957344e+01\n",
      " 1.58489319e+02 3.98107171e+02 1.00000000e+03]\n",
      "\n",
      "My version: [1.00000000e-01 2.51188643e-01 6.30957344e-01 1.58489319e+00\n",
      " 3.98107171e+00 1.00000000e+01 2.51188643e+01 6.30957344e+01\n",
      " 1.58489319e+02 3.98107171e+02 1.00000000e+03]\n",
      "\n"
     ]
    }
   ],
   "source": [
    "#Logarithmic array spacing\n",
    "import numpy as np\n",
    "import mead_general as mead\n",
    "\n",
    "log10=np.log10\n",
    "\n",
    "x1=1e-1\n",
    "x2=1e3\n",
    "nx=11\n",
    "\n",
    "#Numpy version, weird that you need to specify log10\n",
    "x=np.logspace(np.log10(x1),np.log10(x2),nx)\n",
    "print('Numpy version:', x)\n",
    "print()\n",
    "\n",
    "#My version\n",
    "x=mead.logspace(x1,x2,nx)\n",
    "print('My version:', x)\n",
    "print()"
   ]
  }
 ],
 "metadata": {
  "kernelspec": {
   "display_name": "Python 3",
   "language": "python",
   "name": "python3"
  },
  "language_info": {
   "codemirror_mode": {
    "name": "ipython",
    "version": 3
   },
   "file_extension": ".py",
   "mimetype": "text/x-python",
   "name": "python",
   "nbconvert_exporter": "python",
   "pygments_lexer": "ipython3",
   "version": "3.7.6"
  }
 },
 "nbformat": 4,
 "nbformat_minor": 2
}
